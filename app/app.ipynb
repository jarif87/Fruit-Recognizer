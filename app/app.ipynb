{
  "nbformat": 4,
  "nbformat_minor": 0,
  "metadata": {
    "colab": {
      "provenance": []
    },
    "kernelspec": {
      "name": "python3",
      "display_name": "Python 3"
    },
    "language_info": {
      "name": "python"
    }
  },
  "cells": [
    {
      "cell_type": "code",
      "source": [
        "from google.colab import drive\n",
        "drive.mount('/content/drive')"
      ],
      "metadata": {
        "colab": {
          "base_uri": "https://localhost:8080/"
        },
        "id": "VHha5UmeC-9y",
        "outputId": "5545c9d6-174c-450a-ade6-9c6bc21b5696"
      },
      "execution_count": 57,
      "outputs": [
        {
          "output_type": "stream",
          "name": "stdout",
          "text": [
            "Drive already mounted at /content/drive; to attempt to forcibly remount, call drive.mount(\"/content/drive\", force_remount=True).\n"
          ]
        }
      ]
    },
    {
      "cell_type": "code",
      "source": [
        "%cd /content/drive/MyDrive/Fruit_Recognizer"
      ],
      "metadata": {
        "colab": {
          "base_uri": "https://localhost:8080/"
        },
        "id": "A9WRi6HVDDuY",
        "outputId": "4c216d21-4ebf-485f-ea3f-8dc21353831c"
      },
      "execution_count": 58,
      "outputs": [
        {
          "output_type": "stream",
          "name": "stdout",
          "text": [
            "/content/drive/MyDrive/Fruit_Recognizer\n"
          ]
        }
      ]
    },
    {
      "cell_type": "code",
      "execution_count": 59,
      "metadata": {
        "id": "SWpRA6v7QI_R"
      },
      "outputs": [],
      "source": [
        "!pip install -Uqq fastai gradio nbdev"
      ]
    },
    {
      "cell_type": "code",
      "source": [
        "from fastai.vision.all import *\n",
        "from fastai.vision.all import load_learner\n",
        "import gradio as gr"
      ],
      "metadata": {
        "id": "OpUS3z3MQgZ0"
      },
      "execution_count": 60,
      "outputs": []
    },
    {
      "cell_type": "code",
      "source": [
        "model=load_learner(\"models/fruit_model_v6.pkl\")"
      ],
      "metadata": {
        "id": "7J-MaltBP0_f"
      },
      "execution_count": 61,
      "outputs": []
    },
    {
      "cell_type": "code",
      "source": [
        "fruit_labels = ('Apple', 'Apricot', 'Avocado',\n",
        "                'Banana', 'Blueberry',\n",
        "                'Carambola', 'Cherry', 'Fig',\n",
        "                'Grape', 'Kiwi', 'Lemon',\n",
        "                'Lychee', 'Mango',\n",
        "                'Orange', 'Papaya',\n",
        "                'Pear', 'Pineapple',\n",
        "                'Raspberry', 'Strawberry', 'Watermelon')\n",
        "\n",
        "\n",
        "def recognize_image(image):\n",
        "  pred, idx, probs = model.predict(image)\n",
        "  print(pred)\n",
        "  return dict(zip(fruit_labels, map(float, probs)))"
      ],
      "metadata": {
        "id": "lVtVhZtzQgc3"
      },
      "execution_count": 62,
      "outputs": []
    },
    {
      "cell_type": "code",
      "source": [
        "img = PILImage.create(f'test_images/test_0.jpg')\n",
        "img.thumbnail((192,192))\n",
        "img"
      ],
      "metadata": {
        "id": "TqVA9jzPQgfy",
        "colab": {
          "base_uri": "https://localhost:8080/",
          "height": 145
        },
        "outputId": "f058714e-afb7-4875-e421-41da25112aeb"
      },
      "execution_count": 63,
      "outputs": [
        {
          "output_type": "execute_result",
          "data": {
            "text/plain": [
              "PILImage mode=RGB size=192x128"
            ],
            "image/png": "[encoded data removed]"
          },
          "metadata": {},
          "execution_count": 63
        }
      ]
    },
    {
      "cell_type": "code",
      "source": [
        "recognize_image(img)"
      ],
      "metadata": {
        "id": "PKU2JFPlQgi2",
        "colab": {
          "base_uri": "https://localhost:8080/",
          "height": 436
        },
        "outputId": "a30655cb-1b6b-4953-e423-3625d67f60db"
      },
      "execution_count": 64,
      "outputs": [
        {
          "output_type": "stream",
          "name": "stderr",
          "text": [
            "/usr/local/lib/python3.10/dist-packages/fastai/torch_core.py:263: UserWarning: 'has_mps' is deprecated, please use 'torch.backends.mps.is_built()'\n",
            "  return getattr(torch, 'has_mps', False)\n"
          ]
        },
        {
          "output_type": "display_data",
          "data": {
            "text/plain": [
              "<IPython.core.display.HTML object>"
            ],
            "text/html": [
              "\n",
              "<style>\n",
              "    /* Turns off some styling */\n",
              "    progress {\n",
              "        /* gets rid of default border in Firefox and Opera. */\n",
              "        border: none;\n",
              "        /* Needs to be in here for Safari polyfill so background images work as expected. */\n",
              "        background-size: auto;\n",
              "    }\n",
              "    progress:not([value]), progress:not([value])::-webkit-progress-bar {\n",
              "        background: repeating-linear-gradient(45deg, #7e7e7e, #7e7e7e 10px, #5c5c5c 10px, #5c5c5c 20px);\n",
              "    }\n",
              "    .progress-bar-interrupted, .progress-bar-interrupted::-webkit-progress-bar {\n",
              "        background: #F44336;\n",
              "    }\n",
              "</style>\n"
            ]
          },
          "metadata": {}
        },
        {
          "output_type": "display_data",
          "data": {
            "text/plain": [
              "<IPython.core.display.HTML object>"
            ],
            "text/html": []
          },
          "metadata": {}
        },
        {
          "output_type": "stream",
          "name": "stdout",
          "text": [
            "Banana\n"
          ]
        },
        {
          "output_type": "execute_result",
          "data": {
            "text/plain": [
              "{'Apple': 5.5752518157703435e-09,\n",
              " 'Apricot': 2.5855018126463847e-10,\n",
              " 'Avocado': 4.064226999389575e-08,\n",
              " 'Banana': 0.9999983310699463,\n",
              " 'Blueberry': 5.352696064164775e-09,\n",
              " 'Carambola': 1.3467055737237388e-07,\n",
              " 'Cherry': 7.743841479168623e-08,\n",
              " 'Fig': 1.3441150770177046e-07,\n",
              " 'Grape': 1.305619701241767e-08,\n",
              " 'Kiwi': 1.0617771550869293e-08,\n",
              " 'Lemon': 7.528898890996061e-07,\n",
              " 'Lychee': 1.645614133849449e-08,\n",
              " 'Mango': 7.693946457720813e-08,\n",
              " 'Orange': 2.524078865917545e-07,\n",
              " 'Papaya': 5.074594255916054e-08,\n",
              " 'Pear': 1.430123717227616e-07,\n",
              " 'Pineapple': 9.21994214309052e-08,\n",
              " 'Raspberry': 8.419928754221928e-09,\n",
              " 'Strawberry': 2.021719680556089e-09,\n",
              " 'Watermelon': 1.9477317536598093e-09}"
            ]
          },
          "metadata": {},
          "execution_count": 64
        }
      ]
    },
    {
      "cell_type": "code",
      "source": [
        "import gradio as gr\n",
        "\n",
        "image = gr.Image()\n",
        "label = gr.Label()\n",
        "examples = [\n",
        "    'test_images/test_0.jpg',\n",
        "    'test_images/test_1.jpg',\n",
        "    'test_images/test_2.jpg',\n",
        "    'test_images/test_4.jpeg'\n",
        "]\n",
        "\n",
        "iface = gr.Interface(fn=recognize_image, inputs=image, outputs=label, examples=examples)\n",
        "iface.launch(inline=False)\n"
      ],
      "metadata": {
        "id": "eWhn_nMJQgls",
        "colab": {
          "base_uri": "https://localhost:8080/"
        },
        "outputId": "1d509c26-6b0a-4951-fb34-76a4e04add98"
      },
      "execution_count": 65,
      "outputs": [
        {
          "output_type": "stream",
          "name": "stdout",
          "text": [
            "Setting queue=True in a Colab notebook requires sharing enabled. Setting `share=True` (you can turn this off by setting `share=False` in `launch()` explicitly).\n",
            "\n",
            "Colab notebook detected. To show errors in colab notebook, set debug=True in launch()\n",
            "Running on public URL: https://64643211b6c5ebf0bf.gradio.live\n",
            "\n",
            "This share link expires in 72 hours. For free permanent hosting and GPU upgrades, run `gradio deploy` from Terminal to deploy to Spaces (https://huggingface.co/spaces)\n"
          ]
        },
        {
          "output_type": "execute_result",
          "data": {
            "text/plain": []
          },
          "metadata": {},
          "execution_count": 65
        }
      ]
    },
    {
      "cell_type": "code",
      "source": [
        "\n"
      ],
      "metadata": {
        "id": "RUkeg4_2jND8"
      },
      "execution_count": 65,
      "outputs": []
    },
    {
      "cell_type": "code",
      "source": [],
      "metadata": {
        "id": "JqItGOrkQgo2"
      },
      "execution_count": 65,
      "outputs": []
    }
  ]
}
